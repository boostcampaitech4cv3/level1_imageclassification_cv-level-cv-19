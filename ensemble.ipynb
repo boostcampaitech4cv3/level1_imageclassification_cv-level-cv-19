{
 "cells": [
  {
   "cell_type": "markdown",
   "id": "about-heavy",
   "metadata": {},
   "source": [
    "## 0. Libarary 불러오기 및 경로설정"
   ]
  },
  {
   "cell_type": "code",
   "execution_count": 1,
   "id": "cubic-scoop",
   "metadata": {},
   "outputs": [],
   "source": [
    "import multiprocessing\n",
    "import os\n",
    "from importlib import import_module\n",
    "\n",
    "import pandas as pd\n",
    "import torch\n",
    "from torch.utils.data import DataLoader\n",
    "import numpy as np\n",
    "\n",
    "from dataset import TestDataset, MaskBaseDataset\n",
    "from torchmetrics.classification import MulticlassF1Score"
   ]
  },
  {
   "cell_type": "code",
   "execution_count": 2,
   "id": "9e256c71",
   "metadata": {},
   "outputs": [],
   "source": [
    "model_paths = ['/opt/ml/workspace/teajun/level1_imageclassification_cv-level-cv-19/model/1101ConvNext_Small_resize/3_best_f1_0.833_0.897.pth', '/opt/ml/workspace/teajun/level1_imageclassification_cv-level-cv-19/model/1101ConvNext_Small_resize/3_best_f1_0.833_0.897.pth', '/opt/ml/workspace/teajun/level1_imageclassification_cv-level-cv-19/model/1101ConvNext_Small_resize/3_best_f1_0.833_0.897.pth']\n",
    "model_structs = ['ConvNext_Small', 'ConvNext_Small', 'ConvNext_Small']"
   ]
  },
  {
   "cell_type": "code",
   "execution_count": null,
   "id": "bbe9d6a8",
   "metadata": {},
   "outputs": [
    {
     "name": "stderr",
     "output_type": "stream",
     "text": [
      "/opt/conda/lib/python3.8/site-packages/torchvision/transforms/transforms.py:329: UserWarning: Argument 'interpolation' of type int is deprecated since 0.13 and will be removed in 0.15. Please use InterpolationMode enum.\n",
      "  warnings.warn(\n"
     ]
    }
   ],
   "source": [
    "use_cuda = torch.cuda.is_available()\n",
    "device = torch.device(\"cuda\" if use_cuda else \"cpu\")\n",
    "num_classes = MaskBaseDataset.num_classes  # 18\n",
    "data_dir = '/opt/ml/input/data/eval'\n",
    "img_root = os.path.join(data_dir, 'images')\n",
    "info_path = os.path.join(data_dir, 'info.csv')\n",
    "info = pd.read_csv(info_path)\n",
    "img_paths = [os.path.join(img_root, img_id) for img_id in info.ImageID]\n",
    "batch_size = 64\n",
    "resize=(256, 192)\n",
    "dataset = TestDataset(img_paths, resize)\n",
    "\n",
    "loader = torch.utils.data.DataLoader(\n",
    "    dataset,\n",
    "    batch_size=batch_size,\n",
    "    num_workers=multiprocessing.cpu_count() // 2,\n",
    "    shuffle=False,\n",
    "    pin_memory=use_cuda,\n",
    "    drop_last=False,\n",
    ")\n",
    "\n",
    "\n",
    "img_paths = [os.path.join(img_root, img_id) for img_id in info.ImageID]"
   ]
  },
  {
   "cell_type": "code",
   "execution_count": 4,
   "id": "e1ae7e34",
   "metadata": {},
   "outputs": [],
   "source": [
    "prediction_array_3d = []\n",
    "\n",
    "softmax = torch.nn.Softmax(dim=1)\n",
    "for model_struct, model_path in zip(model_structs, model_paths):\n",
    "    model_cls = getattr(import_module('model'), model_struct)\n",
    "    model = model_cls(num_classes)\n",
    "    # 모델 생성 및 파라미터 주입\n",
    "    model.load_state_dict(torch.load(model_path), model_struct)\n",
    "    model = model.to(device)\n",
    "    model.eval()\n",
    "    with torch.no_grad():\n",
    "        temp_prediction = []\n",
    "        for idx, images in enumerate(loader):\n",
    "            images = images.to(device)\n",
    "            pred = softmax(model(images))\n",
    "            temp_prediction.extend(pred.cpu().numpy())\n",
    "        prediction_array_3d.append(temp_prediction)\n",
    "prediction_array_3d = np.array(prediction_array_3d)\n",
    "prediction = prediction_array_3d.sum(axis=0)\n",
    "prediction = prediction.argmax(axis=1)\n",
    "info['ans'] = prediction\n",
    "#             batch_idx = batch_size * idx\n",
    "            # images.shape[0] 는 64. 즉, 배치 만큼만 채워 넣는다.\n",
    "#             prediction_array[batch_idx: batch_idx + images.shape[0], :] = preds.astype(int)\n",
    "\n"
   ]
  },
  {
   "cell_type": "code",
   "execution_count": 5,
   "id": "bfaec5cb",
   "metadata": {},
   "outputs": [
    {
     "data": {
      "text/html": [
       "<div>\n",
       "<style scoped>\n",
       "    .dataframe tbody tr th:only-of-type {\n",
       "        vertical-align: middle;\n",
       "    }\n",
       "\n",
       "    .dataframe tbody tr th {\n",
       "        vertical-align: top;\n",
       "    }\n",
       "\n",
       "    .dataframe thead th {\n",
       "        text-align: right;\n",
       "    }\n",
       "</style>\n",
       "<table border=\"1\" class=\"dataframe\">\n",
       "  <thead>\n",
       "    <tr style=\"text-align: right;\">\n",
       "      <th></th>\n",
       "      <th>ImageID</th>\n",
       "      <th>ans</th>\n",
       "    </tr>\n",
       "  </thead>\n",
       "  <tbody>\n",
       "    <tr>\n",
       "      <th>0</th>\n",
       "      <td>cbc5c6e168e63498590db46022617123f1fe1268.jpg</td>\n",
       "      <td>13</td>\n",
       "    </tr>\n",
       "    <tr>\n",
       "      <th>1</th>\n",
       "      <td>0e72482bf56b3581c081f7da2a6180b8792c7089.jpg</td>\n",
       "      <td>1</td>\n",
       "    </tr>\n",
       "    <tr>\n",
       "      <th>2</th>\n",
       "      <td>b549040c49190cedc41327748aeb197c1670f14d.jpg</td>\n",
       "      <td>13</td>\n",
       "    </tr>\n",
       "    <tr>\n",
       "      <th>3</th>\n",
       "      <td>4f9cb2a045c6d5b9e50ad3459ea7b791eb6e18bc.jpg</td>\n",
       "      <td>13</td>\n",
       "    </tr>\n",
       "    <tr>\n",
       "      <th>4</th>\n",
       "      <td>248428d9a4a5b6229a7081c32851b90cb8d38d0c.jpg</td>\n",
       "      <td>12</td>\n",
       "    </tr>\n",
       "  </tbody>\n",
       "</table>\n",
       "</div>"
      ],
      "text/plain": [
       "                                        ImageID  ans\n",
       "0  cbc5c6e168e63498590db46022617123f1fe1268.jpg   13\n",
       "1  0e72482bf56b3581c081f7da2a6180b8792c7089.jpg    1\n",
       "2  b549040c49190cedc41327748aeb197c1670f14d.jpg   13\n",
       "3  4f9cb2a045c6d5b9e50ad3459ea7b791eb6e18bc.jpg   13\n",
       "4  248428d9a4a5b6229a7081c32851b90cb8d38d0c.jpg   12"
      ]
     },
     "execution_count": 5,
     "metadata": {},
     "output_type": "execute_result"
    }
   ],
   "source": [
    "info.head()\n",
    "print('hihi')"
   ]
  },
  {
   "cell_type": "code",
   "execution_count": 6,
   "id": "c7068b15",
   "metadata": {},
   "outputs": [],
   "source": [
    "m = torch.nn.Softmax(dim=1)\n",
    "input = torch.randn(2, 3)\n",
    "output = m(input)"
   ]
  },
  {
   "cell_type": "code",
   "execution_count": 8,
   "id": "703af472",
   "metadata": {},
   "outputs": [
    {
     "data": {
      "text/plain": [
       "torch.Size([56, 18])"
      ]
     },
     "execution_count": 8,
     "metadata": {},
     "output_type": "execute_result"
    }
   ],
   "source": [
    "pred.shape"
   ]
  },
  {
   "cell_type": "code",
   "execution_count": null,
   "id": "8a708e49",
   "metadata": {},
   "outputs": [],
   "source": []
  },
  {
   "cell_type": "code",
   "execution_count": null,
   "id": "0236eae4",
   "metadata": {},
   "outputs": [],
   "source": []
  }
 ],
 "metadata": {
  "kernelspec": {
   "display_name": "Python 3 (ipykernel)",
   "language": "python",
   "name": "python3"
  },
  "language_info": {
   "codemirror_mode": {
    "name": "ipython",
    "version": 3
   },
   "file_extension": ".py",
   "mimetype": "text/x-python",
   "name": "python",
   "nbconvert_exporter": "python",
   "pygments_lexer": "ipython3",
   "version": "3.8.5"
  }
 },
 "nbformat": 4,
 "nbformat_minor": 5
}
