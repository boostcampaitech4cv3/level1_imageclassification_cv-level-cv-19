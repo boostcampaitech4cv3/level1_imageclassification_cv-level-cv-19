{
 "cells": [
  {
   "cell_type": "code",
   "execution_count": 1,
   "id": "cubic-scoop",
   "metadata": {},
   "outputs": [],
   "source": [
    "import multiprocessing\n",
    "import os\n",
    "from importlib import import_module\n",
    "\n",
    "import pandas as pd\n",
    "import torch\n",
    "from torch.utils.data import DataLoader\n",
    "\n",
    "from dataset import TestDataset, MaskBaseDataset\n",
    "from collections import Counter"
   ]
  },
  {
   "cell_type": "code",
   "execution_count": 2,
   "id": "9e256c71",
   "metadata": {},
   "outputs": [],
   "source": [
    "model_list = ['Swin_b_Deep', 'Swin_T_Deep']"
   ]
  },
  {
   "cell_type": "markdown",
   "id": "5c82c676",
   "metadata": {},
   "source": []
  },
  {
   "cell_type": "code",
   "execution_count": 3,
   "id": "ba51d87e",
   "metadata": {},
   "outputs": [],
   "source": [
    "def load_model(model_name, num_classes, device):\n",
    "    model_cls = getattr(import_module(\"model\"), model_name)\n",
    "    model = model_cls(\n",
    "        num_classes=num_classes\n",
    "    )\n",
    "    # 모델 경로\n",
    "    model_path = os.path.join('./ensemble', f'{model_name}.pth')\n",
    "    model.load_state_dict(torch.load(model_path, map_location=device))\n",
    "\n",
    "    return model"
   ]
  },
  {
   "cell_type": "code",
   "execution_count": 6,
   "id": "a2a774d8",
   "metadata": {},
   "outputs": [],
   "source": [
    "@torch.no_grad()\n",
    "def inference(data_dir, output_dir, resize, batch_size):\n",
    "    \"\"\"\n",
    "    \"\"\"\n",
    "    use_cuda = torch.cuda.is_available()\n",
    "    device = torch.device(\"cuda\" if use_cuda else \"cpu\")\n",
    "\n",
    "    num_classes = MaskBaseDataset.num_classes  # 18\n",
    "    img_root = os.path.join(data_dir, 'images')\n",
    "    info_path = os.path.join(data_dir, 'info.csv')\n",
    "    info = pd.read_csv(info_path)\n",
    "    img_paths = [os.path.join(img_root, img_id) for img_id in info.ImageID]\n",
    "    dataset = TestDataset(img_paths, resize)\n",
    "    loader = torch.utils.data.DataLoader(\n",
    "        dataset,\n",
    "        batch_size=batch_size,\n",
    "        num_workers=multiprocessing.cpu_count() // 2,\n",
    "        shuffle=False,\n",
    "        pin_memory=use_cuda,\n",
    "        drop_last=False,\n",
    "    )\n",
    "    \n",
    "\n",
    "    for index, model_name in enumerate(model_list):\n",
    "        model = load_model(model_name, num_classes, device).to(device)\n",
    "        model.eval()\n",
    "        print(\"Calculating inference results..\")\n",
    "        preds = []\n",
    "        with torch.no_grad():\n",
    "            for idx, images in enumerate(loader):\n",
    "                images = images.to(device)\n",
    "                pred = model(images)\n",
    "                pred = pred.argmax(dim=-1)\n",
    "                preds.extend(pred.cpu().numpy())\n",
    "\n",
    "        info[model_name] = preds\n",
    "    ans_list = []\n",
    "    for arr in info.iloc[:, 2:].values:\n",
    "        ans_list.append(Counter(list(arr)).most_common(1)[0][0])\n",
    "    info['ans'] = ans_list\n",
    "    save_path = os.path.join(output_dir, f'output2.csv')\n",
    "    info.to_csv(save_path, index=False)\n",
    "    print(f\"Inference Done! Inference result saved at {save_path}\")"
   ]
  },
  {
   "cell_type": "code",
   "execution_count": 7,
   "id": "06924ac0",
   "metadata": {},
   "outputs": [
    {
     "name": "stdout",
     "output_type": "stream",
     "text": [
      "Calculating inference results..\n",
      "Calculating inference results..\n",
      "Inference Done! Inference result saved at ./output/ensemble/output2.csv\n"
     ]
    }
   ],
   "source": [
    "inference('/opt/ml/input/data/eval', './output/ensemble', resize=(128, 96), batch_size=1000)"
   ]
  },
  {
   "cell_type": "code",
   "execution_count": null,
   "id": "c7068b15",
   "metadata": {},
   "outputs": [],
   "source": []
  },
  {
   "cell_type": "code",
   "execution_count": null,
   "id": "703af472",
   "metadata": {},
   "outputs": [],
   "source": []
  }
 ],
 "metadata": {
  "kernelspec": {
   "display_name": "Python 3 (ipykernel)",
   "language": "python",
   "name": "python3"
  },
  "language_info": {
   "codemirror_mode": {
    "name": "ipython",
    "version": 3
   },
   "file_extension": ".py",
   "mimetype": "text/x-python",
   "name": "python",
   "nbconvert_exporter": "python",
   "pygments_lexer": "ipython3",
   "version": "3.8.5"
  }
 },
 "nbformat": 4,
 "nbformat_minor": 5
}
